{
 "cells": [
  {
   "cell_type": "markdown",
   "metadata": {
    "id": "fKADPWcFKlj3"
   },
   "source": [
    "# **1. Import Library**"
   ]
  },
  {
   "cell_type": "markdown",
   "metadata": {
    "id": "LgA3ERnVn84N"
   },
   "source": [
    "Pada tahap ini, Anda perlu mengimpor beberapa pustaka (library) Python yang dibutuhkan untuk analisis data dan pembangunan model machine learning."
   ]
  },
  {
   "cell_type": "code",
   "execution_count": 1,
   "metadata": {
    "id": "BlmvjLY9M4Yj"
   },
   "outputs": [],
   "source": [
    "import numpy as np # Mengimpor library numpy untuk numerik\n",
    "import pandas as pd  # Mengimpor pustaka pandas untuk manipulasi dan analisis data\n",
    "import matplotlib.pyplot as plt # Mengimpor maplotlib untuk visualisasi grafik\n",
    "import seaborn as sns # Mengimpor seaborn untuk visualisasi data\n",
    "from yellowbrick.cluster import KElbowVisualizer  # Mengimpor KElbowVisualizer untuk visualisasi metode Elbow\n",
    "from sklearn.cluster import KMeans, DBSCAN  # Mengimpor algoritma KMeans dan DBSCAN untuk clustering\n",
    "from sklearn.metrics import silhouette_score  # Mengimpor silhouette_score untuk mengevaluasi hasil clustering\n",
    "from sklearn.model_selection import train_test_split, RandomizedSearchCV, GridSearchCV # Mengimpor train test split dan randomized search untuk memilih model terbaik\n",
    "from sklearn.feature_selection import SelectKBest, mutual_info_classif, RFE # Mengimpor feature selection untuk meningkatkan akurasi\n",
    "from sklearn.preprocessing import OneHotEncoder, LabelEncoder, StandardScaler, MinMaxScaler # Mengimpor encoder, standarisasi, dan normalisasi untuk preprocessing\n",
    "from sklearn.neighbors import KNeighborsClassifier # Mengimpor algoritma KNN\n",
    "from sklearn.tree import DecisionTreeClassifier # Mengimpor algoritma Decision Tree\n",
    "from sklearn.ensemble import RandomForestClassifier # Mengimpor algoritma Random Forest\n",
    "from sklearn.metrics import mean_squared_error\n",
    "from sklearn.metrics import confusion_matrix, accuracy_score, precision_score, recall_score, f1_score, classification_report\n",
    "from sklearn.decomposition import PCA # Mengimpor PCA untuk visualisasi hasil clustering"
   ]
  },
  {
   "cell_type": "markdown",
   "metadata": {
    "id": "f3YIEnAFKrKL"
   },
   "source": [
    "# **2. Memuat Dataset dari Hasil Clustering**"
   ]
  },
  {
   "cell_type": "markdown",
   "metadata": {
    "id": "Ey3ItwTen_7E"
   },
   "source": [
    "Memuat dataset hasil clustering dari file CSV ke dalam variabel DataFrame."
   ]
  },
  {
   "cell_type": "code",
   "execution_count": 2,
   "metadata": {
    "id": "GHCGNTyrM5fS"
   },
   "outputs": [],
   "source": [
    "# memuat dataset hasil clustering\n",
    "df = pd.read_csv('dataset_clustering.csv')"
   ]
  },
  {
   "cell_type": "markdown",
   "metadata": {
    "id": "KkPem5eWL2UP"
   },
   "source": [
    "# **3. Data Splitting**"
   ]
  },
  {
   "cell_type": "markdown",
   "metadata": {
    "id": "YYj1rl_JNI9Y"
   },
   "source": [
    "Tahap Data Splitting bertujuan untuk memisahkan dataset menjadi dua bagian: data latih (training set) dan data uji (test set)."
   ]
  },
  {
   "cell_type": "code",
   "execution_count": 3,
   "metadata": {},
   "outputs": [
    {
     "data": {
      "text/html": [
       "<div>\n",
       "<style scoped>\n",
       "    .dataframe tbody tr th:only-of-type {\n",
       "        vertical-align: middle;\n",
       "    }\n",
       "\n",
       "    .dataframe tbody tr th {\n",
       "        vertical-align: top;\n",
       "    }\n",
       "\n",
       "    .dataframe thead th {\n",
       "        text-align: right;\n",
       "    }\n",
       "</style>\n",
       "<table border=\"1\" class=\"dataframe\">\n",
       "  <thead>\n",
       "    <tr style=\"text-align: right;\">\n",
       "      <th></th>\n",
       "      <th>Customer_Type</th>\n",
       "      <th>Unit_Price</th>\n",
       "      <th>Quantity</th>\n",
       "      <th>Discount</th>\n",
       "      <th>Total_Price</th>\n",
       "      <th>Cluster</th>\n",
       "    </tr>\n",
       "  </thead>\n",
       "  <tbody>\n",
       "    <tr>\n",
       "      <th>0</th>\n",
       "      <td>B2B</td>\n",
       "      <td>1.87</td>\n",
       "      <td>74.0</td>\n",
       "      <td>0.10</td>\n",
       "      <td>124.54</td>\n",
       "      <td>1</td>\n",
       "    </tr>\n",
       "    <tr>\n",
       "      <th>1</th>\n",
       "      <td>B2B</td>\n",
       "      <td>1.87</td>\n",
       "      <td>18.0</td>\n",
       "      <td>0.05</td>\n",
       "      <td>31.98</td>\n",
       "      <td>1</td>\n",
       "    </tr>\n",
       "    <tr>\n",
       "      <th>2</th>\n",
       "      <td>B2C</td>\n",
       "      <td>1.64</td>\n",
       "      <td>4.0</td>\n",
       "      <td>0.00</td>\n",
       "      <td>6.56</td>\n",
       "      <td>0</td>\n",
       "    </tr>\n",
       "    <tr>\n",
       "      <th>3</th>\n",
       "      <td>B2C</td>\n",
       "      <td>1.74</td>\n",
       "      <td>5.0</td>\n",
       "      <td>0.00</td>\n",
       "      <td>8.70</td>\n",
       "      <td>0</td>\n",
       "    </tr>\n",
       "    <tr>\n",
       "      <th>4</th>\n",
       "      <td>B2C</td>\n",
       "      <td>1.80</td>\n",
       "      <td>15.0</td>\n",
       "      <td>0.00</td>\n",
       "      <td>27.00</td>\n",
       "      <td>0</td>\n",
       "    </tr>\n",
       "  </tbody>\n",
       "</table>\n",
       "</div>"
      ],
      "text/plain": [
       "  Customer_Type  Unit_Price  Quantity  Discount  Total_Price  Cluster\n",
       "0           B2B        1.87      74.0      0.10       124.54        1\n",
       "1           B2B        1.87      18.0      0.05        31.98        1\n",
       "2           B2C        1.64       4.0      0.00         6.56        0\n",
       "3           B2C        1.74       5.0      0.00         8.70        0\n",
       "4           B2C        1.80      15.0      0.00        27.00        0"
      ]
     },
     "execution_count": 3,
     "metadata": {},
     "output_type": "execute_result"
    }
   ],
   "source": [
    "df.head()"
   ]
  },
  {
   "cell_type": "code",
   "execution_count": 4,
   "metadata": {},
   "outputs": [
    {
     "data": {
      "text/html": [
       "<div>\n",
       "<style scoped>\n",
       "    .dataframe tbody tr th:only-of-type {\n",
       "        vertical-align: middle;\n",
       "    }\n",
       "\n",
       "    .dataframe tbody tr th {\n",
       "        vertical-align: top;\n",
       "    }\n",
       "\n",
       "    .dataframe thead th {\n",
       "        text-align: right;\n",
       "    }\n",
       "</style>\n",
       "<table border=\"1\" class=\"dataframe\">\n",
       "  <thead>\n",
       "    <tr style=\"text-align: right;\">\n",
       "      <th></th>\n",
       "      <th>Customer_Type</th>\n",
       "      <th>Unit_Price</th>\n",
       "      <th>Quantity</th>\n",
       "      <th>Discount</th>\n",
       "      <th>Total_Price</th>\n",
       "      <th>Cluster</th>\n",
       "    </tr>\n",
       "  </thead>\n",
       "  <tbody>\n",
       "    <tr>\n",
       "      <th>0</th>\n",
       "      <td>0</td>\n",
       "      <td>1.87</td>\n",
       "      <td>74.0</td>\n",
       "      <td>0.10</td>\n",
       "      <td>124.54</td>\n",
       "      <td>1</td>\n",
       "    </tr>\n",
       "    <tr>\n",
       "      <th>1</th>\n",
       "      <td>0</td>\n",
       "      <td>1.87</td>\n",
       "      <td>18.0</td>\n",
       "      <td>0.05</td>\n",
       "      <td>31.98</td>\n",
       "      <td>1</td>\n",
       "    </tr>\n",
       "    <tr>\n",
       "      <th>2</th>\n",
       "      <td>1</td>\n",
       "      <td>1.64</td>\n",
       "      <td>4.0</td>\n",
       "      <td>0.00</td>\n",
       "      <td>6.56</td>\n",
       "      <td>0</td>\n",
       "    </tr>\n",
       "    <tr>\n",
       "      <th>3</th>\n",
       "      <td>1</td>\n",
       "      <td>1.74</td>\n",
       "      <td>5.0</td>\n",
       "      <td>0.00</td>\n",
       "      <td>8.70</td>\n",
       "      <td>0</td>\n",
       "    </tr>\n",
       "    <tr>\n",
       "      <th>4</th>\n",
       "      <td>1</td>\n",
       "      <td>1.80</td>\n",
       "      <td>15.0</td>\n",
       "      <td>0.00</td>\n",
       "      <td>27.00</td>\n",
       "      <td>0</td>\n",
       "    </tr>\n",
       "  </tbody>\n",
       "</table>\n",
       "</div>"
      ],
      "text/plain": [
       "   Customer_Type  Unit_Price  Quantity  Discount  Total_Price  Cluster\n",
       "0              0        1.87      74.0      0.10       124.54        1\n",
       "1              0        1.87      18.0      0.05        31.98        1\n",
       "2              1        1.64       4.0      0.00         6.56        0\n",
       "3              1        1.74       5.0      0.00         8.70        0\n",
       "4              1        1.80      15.0      0.00        27.00        0"
      ]
     },
     "execution_count": 4,
     "metadata": {},
     "output_type": "execute_result"
    }
   ],
   "source": [
    "# buat instance LabelEncoder\n",
    "label_encoder = LabelEncoder()\n",
    "\n",
    "# encode kolom kategorikal\n",
    "df[['Customer_Type']] = df[['Customer_Type']].apply(label_encoder.fit_transform)\n",
    "\n",
    "# tampilkan dataframe untuk memastikan encoding telah diterapkan\n",
    "df.head()"
   ]
  },
  {
   "cell_type": "code",
   "execution_count": 5,
   "metadata": {},
   "outputs": [
    {
     "data": {
      "text/html": [
       "<div>\n",
       "<style scoped>\n",
       "    .dataframe tbody tr th:only-of-type {\n",
       "        vertical-align: middle;\n",
       "    }\n",
       "\n",
       "    .dataframe tbody tr th {\n",
       "        vertical-align: top;\n",
       "    }\n",
       "\n",
       "    .dataframe thead th {\n",
       "        text-align: right;\n",
       "    }\n",
       "</style>\n",
       "<table border=\"1\" class=\"dataframe\">\n",
       "  <thead>\n",
       "    <tr style=\"text-align: right;\">\n",
       "      <th></th>\n",
       "      <th>Customer_Type</th>\n",
       "      <th>Unit_Price</th>\n",
       "      <th>Quantity</th>\n",
       "      <th>Discount</th>\n",
       "      <th>Total_Price</th>\n",
       "      <th>Cluster</th>\n",
       "    </tr>\n",
       "  </thead>\n",
       "  <tbody>\n",
       "    <tr>\n",
       "      <th>0</th>\n",
       "      <td>0</td>\n",
       "      <td>0.252459</td>\n",
       "      <td>0.737374</td>\n",
       "      <td>0.666667</td>\n",
       "      <td>0.626210</td>\n",
       "      <td>1</td>\n",
       "    </tr>\n",
       "    <tr>\n",
       "      <th>1</th>\n",
       "      <td>0</td>\n",
       "      <td>0.252459</td>\n",
       "      <td>0.171717</td>\n",
       "      <td>0.333333</td>\n",
       "      <td>0.159490</td>\n",
       "      <td>1</td>\n",
       "    </tr>\n",
       "    <tr>\n",
       "      <th>2</th>\n",
       "      <td>1</td>\n",
       "      <td>0.214754</td>\n",
       "      <td>0.030303</td>\n",
       "      <td>0.000000</td>\n",
       "      <td>0.031313</td>\n",
       "      <td>0</td>\n",
       "    </tr>\n",
       "    <tr>\n",
       "      <th>3</th>\n",
       "      <td>1</td>\n",
       "      <td>0.231148</td>\n",
       "      <td>0.040404</td>\n",
       "      <td>0.000000</td>\n",
       "      <td>0.042104</td>\n",
       "      <td>0</td>\n",
       "    </tr>\n",
       "    <tr>\n",
       "      <th>4</th>\n",
       "      <td>1</td>\n",
       "      <td>0.240984</td>\n",
       "      <td>0.141414</td>\n",
       "      <td>0.000000</td>\n",
       "      <td>0.134379</td>\n",
       "      <td>0</td>\n",
       "    </tr>\n",
       "  </tbody>\n",
       "</table>\n",
       "</div>"
      ],
      "text/plain": [
       "   Customer_Type  Unit_Price  Quantity  Discount  Total_Price  Cluster\n",
       "0              0    0.252459  0.737374  0.666667     0.626210        1\n",
       "1              0    0.252459  0.171717  0.333333     0.159490        1\n",
       "2              1    0.214754  0.030303  0.000000     0.031313        0\n",
       "3              1    0.231148  0.040404  0.000000     0.042104        0\n",
       "4              1    0.240984  0.141414  0.000000     0.134379        0"
      ]
     },
     "execution_count": 5,
     "metadata": {},
     "output_type": "execute_result"
    }
   ],
   "source": [
    "# buat instance MinMaxScaler\n",
    "scaler = MinMaxScaler()\n",
    "\n",
    "# normalisasi semua kolom numerik\n",
    "numeric_cols = ['Unit_Price', 'Quantity', 'Discount', 'Total_Price']\n",
    "df[numeric_cols] = scaler.fit_transform(df[numeric_cols])\n",
    "\n",
    "df.head()"
   ]
  },
  {
   "cell_type": "code",
   "execution_count": 6,
   "metadata": {
    "id": "OubAW-7ONKVj"
   },
   "outputs": [
    {
     "name": "stdout",
     "output_type": "stream",
     "text": [
      "Training set shape: X_train=(3316, 5), y_train=(3316,)\n",
      "Test set shape: X_test=(829, 5), y_test=(829,)\n"
     ]
    }
   ],
   "source": [
    "# memisahkan fitur (X) dan target (y)\n",
    "X = df.drop(['Cluster'], axis=1)  \n",
    "y = df['Cluster'] \n",
    "\n",
    "# membagi dataset menjadi training dan testing \n",
    "X_train, X_test, y_train, y_test = train_test_split(X, y, test_size=0.2, random_state=1)\n",
    "\n",
    "# memastikan split diterapkan\n",
    "print(f\"Training set shape: X_train={X_train.shape}, y_train={y_train.shape}\")\n",
    "print(f\"Test set shape: X_test={X_test.shape}, y_test={y_test.shape}\")"
   ]
  },
  {
   "cell_type": "markdown",
   "metadata": {
    "id": "IVPbB03CMhTT"
   },
   "source": [
    "# **4. Membangun Model Klasifikasi**\n"
   ]
  },
  {
   "cell_type": "markdown",
   "metadata": {
    "id": "Ned1pL9zMmBK"
   },
   "source": [
    "## **a. Membangun Model Klasifikasi**"
   ]
  },
  {
   "cell_type": "markdown",
   "metadata": {
    "id": "WAWzPOE4Nkti"
   },
   "source": [
    "Setelah memilih algoritma klasifikasi yang sesuai, langkah selanjutnya adalah melatih model menggunakan data latih.\n",
    "\n",
    "Berikut adalah rekomendasi tahapannya.\n",
    "1. Pilih algoritma klasifikasi yang sesuai, seperti Logistic Regression, Decision Tree, Random Forest, atau K-Nearest Neighbors (KNN).\n",
    "2. Latih model menggunakan data latih."
   ]
  },
  {
   "cell_type": "code",
   "execution_count": 7,
   "metadata": {
    "id": "4JYxBe87NLDk"
   },
   "outputs": [
    {
     "name": "stdout",
     "output_type": "stream",
     "text": [
      "Model training selesai.\n"
     ]
    }
   ],
   "source": [
    "# inisialisasi klasifikasi\n",
    "knn = KNeighborsClassifier().fit(X_train, y_train)\n",
    "dt = DecisionTreeClassifier().fit(X_train, y_train)\n",
    "\n",
    "print(\"Model training selesai.\")"
   ]
  },
  {
   "cell_type": "markdown",
   "metadata": {
    "id": "seYoHNY3XU1y"
   },
   "source": [
    "Tulis narasi atau penjelasan algoritma yang Anda gunakan.\n",
    "\n",
    "1. K-Nearest Neighbors: Algoritma ini digunakan untuk mengklasifikasikan data baru berdasarkan kedekatannya dengan data yang sudah diberi label dalam dataset pelatihan\n",
    "2. Decision Tree: Algoritma dengan bentuk mirip pohon yang setiap cabang mewakili keputusan atau percabangan dari data berdasarkan fitur-fitur yang ada. \n",
    "3. Random Forest: Algoritma ensemble learning yang menggabungkan beberapa Decision Tree untuk meningkatkan akurasi prediksi dan mengurangi risiko overfitting."
   ]
  },
  {
   "cell_type": "markdown",
   "metadata": {
    "id": "ergzChZFEL-O"
   },
   "source": [
    "## **b. Evaluasi Model Klasifikasi**"
   ]
  },
  {
   "cell_type": "markdown",
   "metadata": {
    "id": "zOm68u-7NpLT"
   },
   "source": [
    "Berikut adalah **rekomendasi** tahapannya.\n",
    "1. Lakukan prediksi menggunakan data uji.\n",
    "2. Hitung metrik evaluasi seperti Accuracy dan F1-Score (Opsional: Precision dan Recall).\n",
    "3. Buat confusion matrix untuk melihat detail prediksi benar dan salah."
   ]
  },
  {
   "cell_type": "code",
   "execution_count": 8,
   "metadata": {
    "id": "tMq4QAssNLip"
   },
   "outputs": [
    {
     "name": "stdout",
     "output_type": "stream",
     "text": [
      "                       Model  Accuracy  Precision  Recall  F1-Score\n",
      "0  K-Nearest Neighbors (KNN)       1.0        1.0     1.0       1.0\n",
      "1         Decision Tree (DT)       1.0        1.0     1.0       1.0\n"
     ]
    }
   ],
   "source": [
    "# fungsi untuk mengevaluasi dan mengembalikan hasil sebagai kamus\n",
    "def evaluate_model(model, X_test, y_test):\n",
    "    y_pred = model.predict(X_test)\n",
    "    cm = confusion_matrix(y_test, y_pred)\n",
    "    tn, fp, fn, tp = cm.ravel()\n",
    "    results = {\n",
    "        'Confusion Matrix': cm,\n",
    "        'True Positive (TP)': tp,\n",
    "        'False Positive (FP)': fp,\n",
    "        'False Negative (FN)': fn,\n",
    "        'True Negative (TN)': tn,\n",
    "        'Accuracy': accuracy_score(y_test, y_pred),\n",
    "        'Precision': precision_score(y_test, y_pred),\n",
    "        'Recall': recall_score(y_test, y_pred),\n",
    "        'F1-Score': f1_score(y_test, y_pred)\n",
    "    }\n",
    "    return results\n",
    " \n",
    "# mengevaluasi setiap model dan mengumpulkan hasilnya\n",
    "results = {\n",
    "    'K-Nearest Neighbors (KNN)': evaluate_model(knn, X_test, y_test),\n",
    "    'Decision Tree (DT)': evaluate_model(dt, X_test, y_test)\n",
    "}\n",
    " \n",
    "# buat DataFrame untuk meringkas hasil\n",
    "summary_df = pd.DataFrame(columns=['Model', 'Accuracy', 'Precision', 'Recall', 'F1-Score'])\n",
    " \n",
    "# isi DataFrame dengan hasil\n",
    "rows = []\n",
    "for model_name, metrics in results.items():\n",
    "    rows.append({\n",
    "        'Model': model_name,\n",
    "        'Accuracy': metrics['Accuracy'],\n",
    "        'Precision': metrics['Precision'],\n",
    "        'Recall': metrics['Recall'],\n",
    "        'F1-Score': metrics['F1-Score']\n",
    "    })\n",
    " \n",
    "# konversi daftar kamus ke DataFrame\n",
    "summary_df = pd.DataFrame(rows)\n",
    " \n",
    "# tampilkan DataFrame\n",
    "print(summary_df)"
   ]
  },
  {
   "cell_type": "markdown",
   "metadata": {
    "id": "H4_9OwrsXZlz"
   },
   "source": [
    "Tulis hasil evaluasi algoritma yang digunakan, jika Anda menggunakan 2 algoritma, maka bandingkan hasilnya.\n",
    "1. Akurasi: Kedua algoritma menunjukkan akurasi 100%, dimana model terlalu cocok dengan set pelatihan, mungkin karena random sample yang diambil tidak memberikan gambaran yang luas terhadap data lainnya.\n",
    "2. Precision, Recall, dan F1-Score: Kedua algoritma juga memilik score 1.0, karena model sangat cocok dengam set pelatihan, bukannya memahami pola, tetapi model cenderung menghapal data."
   ]
  },
  {
   "cell_type": "markdown",
   "metadata": {
    "id": "ph9yIYDXEPuB"
   },
   "source": [
    "## **c. Tuning Model Klasifikasi (Optional)**"
   ]
  },
  {
   "cell_type": "markdown",
   "metadata": {
    "id": "-Bikx3LINv5e"
   },
   "source": [
    "Gunakan GridSearchCV, RandomizedSearchCV, atau metode lainnya untuk mencari kombinasi hyperparameter terbaik"
   ]
  },
  {
   "cell_type": "code",
   "execution_count": 9,
   "metadata": {
    "id": "winbFzb8NL95"
   },
   "outputs": [
    {
     "name": "stdout",
     "output_type": "stream",
     "text": [
      "Initial MSE on test set (without tuning): 0.00\n"
     ]
    }
   ],
   "source": [
    "# evaluasi awal model tanpa tuning\n",
    "y_pred = knn.predict(X_test)\n",
    "y_pred = dt.predict(X_test)\n",
    "initial_mse = mean_squared_error(y_test, y_pred)\n",
    "print(f\"Initial MSE on test set (without tuning): {initial_mse:.2f}\")"
   ]
  },
  {
   "cell_type": "code",
   "execution_count": 10,
   "metadata": {},
   "outputs": [
    {
     "name": "stdout",
     "output_type": "stream",
     "text": [
      "Best K-Nearest Neighbors parameters: {'metric': 'euclidean', 'n_neighbors': 3, 'weights': 'uniform'}\n"
     ]
    }
   ],
   "source": [
    "# hyperparameter tuning untuk KNN\n",
    "knn_param_grid = {\n",
    "    'n_neighbors': [3, 5, 7, 9, 11],\n",
    "    'metric': ['euclidean', 'manhattan', 'minkowski'],\n",
    "    'weights': ['uniform', 'distance']\n",
    "    }\n",
    "\n",
    "# GridSearchCV untuk KNN\n",
    "knn_grid = GridSearchCV(estimator=knn, param_grid=knn_param_grid, cv=3, n_jobs=-1, scoring='accuracy')\n",
    "knn_grid.fit(X_train, y_train)\n",
    "\n",
    "best_knn = knn_grid.best_estimator_\n",
    "y_pred = best_knn.predict(X_test)\n",
    "\n",
    "# output hasil terbaik\n",
    "print(\"Best K-Nearest Neighbors parameters:\", knn_grid.best_params_)"
   ]
  },
  {
   "cell_type": "code",
   "execution_count": 11,
   "metadata": {},
   "outputs": [
    {
     "name": "stdout",
     "output_type": "stream",
     "text": [
      "Best Decision Tree parameters: {'criterion': 'gini', 'max_depth': None, 'min_samples_leaf': 1, 'min_samples_split': 2, 'splitter': 'best'}\n"
     ]
    }
   ],
   "source": [
    "# hyperparameter tuning untuk Decision Tree\n",
    "dt_param_grid = {\n",
    "    'criterion': ['gini', 'entropy', 'log_loss'],\n",
    "    'max_depth': [None, 5, 10, 20],\n",
    "    'min_samples_leaf': [1, 2, 4],\n",
    "    'min_samples_split': [2, 3, 4],\n",
    "    'splitter': ['best', 'random']\n",
    "    }\n",
    "\n",
    "# GridSearchCV untuk Decision Tree\n",
    "dt_grid = GridSearchCV(estimator=dt, param_grid=dt_param_grid, cv=3, n_jobs=-1, scoring='accuracy')\n",
    "dt_grid.fit(X_train, y_train)\n",
    "\n",
    "best_dt = dt_grid.best_estimator_\n",
    "y_pred = best_dt.predict(X_test)\n",
    "\n",
    "# output hasil terbaik\n",
    "print(\"Best Decision Tree parameters:\", dt_grid.best_params_)"
   ]
  },
  {
   "cell_type": "markdown",
   "metadata": {
    "id": "hE7pqlEPEYzI"
   },
   "source": [
    "## **d. Evaluasi Model Klasifikasi setelah Tuning (Optional)**"
   ]
  },
  {
   "cell_type": "markdown",
   "metadata": {
    "id": "feaPESoeN0zz"
   },
   "source": [
    "Berikut adalah rekomendasi tahapannya.\n",
    "1. Gunakan model dengan hyperparameter terbaik.\n",
    "2. Hitung ulang metrik evaluasi untuk melihat apakah ada peningkatan performa."
   ]
  },
  {
   "cell_type": "code",
   "execution_count": 12,
   "metadata": {},
   "outputs": [
    {
     "name": "stdout",
     "output_type": "stream",
     "text": [
      "                       Model  Accuracy  Precision  Recall  F1-Score\n",
      "0  K-Nearest Neighbors (KNN)       1.0        1.0     1.0       1.0\n",
      "1         Decision Tree (DT)       1.0        1.0     1.0       1.0\n"
     ]
    }
   ],
   "source": [
    "# fungsi untuk mengevaluasi dan mengembalikan hasil sebagai kamus\n",
    "def evaluate_model(model, X_test, y_test):\n",
    "    y_pred = model.predict(X_test)\n",
    "    cm = confusion_matrix(y_test, y_pred)\n",
    "    tn, fp, fn, tp = cm.ravel()\n",
    "    results = {\n",
    "        'Confusion Matrix': cm,\n",
    "        'True Positive (TP)': tp,\n",
    "        'False Positive (FP)': fp,\n",
    "        'False Negative (FN)': fn,\n",
    "        'True Negative (TN)': tn,\n",
    "        'Accuracy': accuracy_score(y_test, y_pred),\n",
    "        'Precision': precision_score(y_test, y_pred),\n",
    "        'Recall': recall_score(y_test, y_pred),\n",
    "        'F1-Score': f1_score(y_test, y_pred)\n",
    "    }\n",
    "    return results\n",
    " \n",
    "# mengevaluasi setiap model dan mengumpulkan hasilnya\n",
    "results = {\n",
    "    'K-Nearest Neighbors (KNN)': evaluate_model(best_knn, X_test, y_test),\n",
    "    'Decision Tree (DT)': evaluate_model(best_dt, X_test, y_test)\n",
    "}\n",
    " \n",
    "# buat DataFrame untuk meringkas hasil\n",
    "summary_df = pd.DataFrame(columns=['Model', 'Accuracy', 'Precision', 'Recall', 'F1-Score'])\n",
    " \n",
    "# isi DataFrame dengan hasil\n",
    "rows = []\n",
    "for model_name, metrics in results.items():\n",
    "    rows.append({\n",
    "        'Model': model_name,\n",
    "        'Accuracy': metrics['Accuracy'],\n",
    "        'Precision': metrics['Precision'],\n",
    "        'Recall': metrics['Recall'],\n",
    "        'F1-Score': metrics['F1-Score']\n",
    "    })\n",
    " \n",
    "# konversi daftar kamus ke DataFrame\n",
    "summary_df = pd.DataFrame(rows)\n",
    " \n",
    "# tampilkan DataFrame\n",
    "print(summary_df)"
   ]
  },
  {
   "cell_type": "markdown",
   "metadata": {
    "id": "H4_9OwrsXZlz"
   },
   "source": [
    "Evaluasi Model Setelah Tuning\n",
    "1. Karena sebelum tuning akurasi sudah 100%, maka setelah melakukan tunig hasilnya tidak ada perubahan."
   ]
  },
  {
   "cell_type": "markdown",
   "metadata": {
    "id": "ZRsOdm4uEgAW"
   },
   "source": [
    "## **e. Analisis Hasil Evaluasi Model Klasifikasi**"
   ]
  },
  {
   "cell_type": "markdown",
   "metadata": {
    "id": "Hm3BhSi6N4_l"
   },
   "source": [
    "Berikut adalah **rekomendasi** tahapannya.\n",
    "1. Evaluasi setelah tuning tidak ada perubahan, karena sebelum tuning akurasi pada kedua model telah sempurna (1.0).\n",
    "2. Model yang yang saya lakukan mengalami overfitting, mungkin ini disebabkan adanya kesalahan pada preprocessing clustering karena dataset terlalu besar, jadi saya mengambil subset secara acak sebanyak 10.000 yang mana mungkin sampling tersebut tidak mewakili keseluruhan dataset dan pada saat di cek terdapat duplikasi karena tidak melibatkan kolom ID.\n",
    "3. Rekomendasi yang bisa dilakukan:\n",
    "   - Melakukan preprocessing dengan benar pada saat clustering.\n",
    "   - Dapat melakukan penanganan overfitting dan underfitting.\n",
    "   - Jika melakukan sampling, past\n",
    "1. Bandingkan hasil evaluasi sebelum dan setelah tuning (jika dilakukan).\n",
    "2. Identifikasi kelemahan model, seperti:\n",
    "  - Precision atau Recall rendah untuk kelas tertentu.\n",
    "  - Apakah model mengalami overfitting atau underfitting?\n",
    "3. Berikan rekomendasi tindakan lanjutan, seperti mengumpulkan data tambahan atau mencoba algoritma lain jika hasil belum memuaskan."
   ]
  },
  {
   "cell_type": "code",
   "execution_count": null,
   "metadata": {},
   "outputs": [],
   "source": []
  }
 ],
 "metadata": {
  "colab": {
   "provenance": []
  },
  "kernelspec": {
   "display_name": "Python 3 (ipykernel)",
   "language": "python",
   "name": "python3"
  },
  "language_info": {
   "codemirror_mode": {
    "name": "ipython",
    "version": 3
   },
   "file_extension": ".py",
   "mimetype": "text/x-python",
   "name": "python",
   "nbconvert_exporter": "python",
   "pygments_lexer": "ipython3",
   "version": "3.13.1"
  }
 },
 "nbformat": 4,
 "nbformat_minor": 4
}
